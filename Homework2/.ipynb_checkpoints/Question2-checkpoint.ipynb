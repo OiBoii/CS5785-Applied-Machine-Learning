{
 "cells": [
  {
   "cell_type": "code",
   "execution_count": 8,
   "metadata": {
    "collapsed": false
   },
   "outputs": [
    {
     "name": "stdout",
     "output_type": "stream",
     "text": [
      "Total id: 39774\n",
      "Total cuisine unique: 20\n",
      "Total ingredients: 428275\n",
      "Total ingredients unique: 6714\n"
     ]
    }
   ],
   "source": [
    "# 1-b Tell us about the data\n",
    "import numpy as np\n",
    "from matplotlib import pylab as plt\n",
    "import json\n",
    "from pprint import pprint\n",
    "\n",
    "with open(\"train.json\", \"r\") as f:\n",
    "    data = json.load(f)\n",
    "#pprint(data[0])\n",
    "ids, cuisine, ingredients = [], [], []\n",
    "for d in data:\n",
    "    ids.append(d[\"id\"])\n",
    "    cuisine.append(d[\"cuisine\"])\n",
    "    ingredients.extend(d[\"ingredients\"])    \n",
    "print(\"Total id: {}\".format(len(ids)))\n",
    "print(\"Total cuisine unique: {}\".format(len(set(cuisine))))\n",
    "print(\"Total ingredients: {}\".format(len(ingredients)))\n",
    "print(\"Total ingredients unique: {}\".format(len(set(ingredients))))"
   ]
  },
  {
   "cell_type": "code",
   "execution_count": 13,
   "metadata": {
    "collapsed": false
   },
   "outputs": [
    {
     "name": "stdout",
     "output_type": "stream",
     "text": [
      "(39774, 6714)\n"
     ]
    }
   ],
   "source": [
    "# 1-c Feature Vector Extration\n",
    "ing_dict = dict()\n",
    "index = 0\n",
    "for i in set(ingredients):\n",
    "    ing_dict[i] = index\n",
    "    index = index + 1\n",
    "train_data = []\n",
    "ing_count = len(set(ingredients))\n",
    "for d in data:\n",
    "    cur = [0] * ing_count\n",
    "    for i in d[\"ingredients\"]:\n",
    "        cur[ing_dict[i]] = 1\n",
    "    train_data.append(cur)\n",
    "train_data = np.array(train_data, dtype=int)\n",
    "train_labels = np.array(cuisine, dtype=str)"
   ]
  },
  {
   "cell_type": "code",
   "execution_count": 28,
   "metadata": {
    "collapsed": false
   },
   "outputs": [
    {
     "name": "stdout",
     "output_type": "stream",
     "text": [
      "Gaussian: 0.3798461306381053\n",
      "Bernoulli: 0.6835369839593705\n",
      "Multinomial: 0.7220043244330467\n",
      "Logistic Regression: 0.7755568964650275\n"
     ]
    }
   ],
   "source": [
    "# 1-d Naïve Bayes\n",
    "# 1-f Logistic Regression\n",
    "from sklearn.cross_validation import KFold\n",
    "from sklearn.naive_bayes import GaussianNB\n",
    "from sklearn.naive_bayes import BernoulliNB\n",
    "from sklearn.naive_bayes import MultinomialNB\n",
    "from sklearn.linear_model import LogisticRegression\n",
    "clf_G = GaussianNB()\n",
    "clf_B = BernoulliNB()\n",
    "clf_M = MultinomialNB()\n",
    "clf_L = LogisticRegression()\n",
    "fold = 3\n",
    "kf = KFold(len(train_data), n_folds=fold)\n",
    "avg_G, avg_B, avg_M, avg_L = 0, 0, 0, 0\n",
    "for train_index, test_index in kf:\n",
    "    data_tr, data_t = train_data[train_index], train_data[test_index]\n",
    "    labels_tr, labels_t = train_labels[train_index], train_labels[test_index]\n",
    "    clf_G.fit(data_tr, labels_tr)\n",
    "    clf_B.fit(data_tr, labels_tr)\n",
    "    clf_M.fit(data_tr, labels_tr)\n",
    "    clf_L.fit(data_tr, labels_tr)\n",
    "    avg_G += clf_G.score(data_t, labels_t) / fold\n",
    "    avg_B += clf_B.score(data_t, labels_t) / fold\n",
    "    avg_M += clf_M.score(data_t, labels_t) / fold\n",
    "    avg_L += clf_L.score(data_t, labels_t) / fold\n",
    "print(\"Gaussian: {}\".format(avg_G))\n",
    "print(\"Bernoulli: {}\".format(avg_B))\n",
    "print(\"Multinomial: {}\".format(avg_M))\n",
    "print(\"Logistic Regression: {}\".format(avg_L))"
   ]
  },
  {
   "cell_type": "code",
   "execution_count": 39,
   "metadata": {
    "collapsed": false
   },
   "outputs": [
    {
     "name": "stdout",
     "output_type": "stream",
     "text": [
      "(9944,)\n",
      "(9944, 6714)\n",
      "(9944,)\n",
      "(9944,)\n"
     ]
    }
   ],
   "source": [
    "# 1-g Kaggle\n",
    "with open(\"test.json\", \"r\") as f:\n",
    "    test = json.load(f)\n",
    "test_data = []\n",
    "test_ids = []\n",
    "for d in test:\n",
    "    test_ids.append(d[\"id\"])\n",
    "    cur = [0] * ing_count\n",
    "    for i in d[\"ingredients\"]:\n",
    "        if i in ing_dict:\n",
    "            cur[ing_dict[i]] = 1\n",
    "    test_data.append(cur)\n",
    "test_ids = np.array(test_ids)\n",
    "test_data = np.array(test_data)    \n",
    "clf_M.fit(train_data, train_labels)\n",
    "clf_L.fit(train_data, train_labels)\n",
    "pred_M = clf_M.predict(test_data)\n",
    "pred_L = clf_L.predict(test_data)\n",
    "np.savetxt(\"Test_Ids.csv\", test_ids, delimiter=\",\")\n",
    "np.savetxt(\"Kaggle_Log.csv\", pred_L, delimiter=\",\", fmt=\"%s\")\n",
    "np.savetxt(\"Kaggle_NB.csv\", pred_M, delimiter=\",\", fmt=\"%s\")"
   ]
  },
  {
   "cell_type": "code",
   "execution_count": null,
   "metadata": {
    "collapsed": true
   },
   "outputs": [],
   "source": []
  }
 ],
 "metadata": {
  "anaconda-cloud": {},
  "kernelspec": {
   "display_name": "Python [Root]",
   "language": "python",
   "name": "Python [Root]"
  },
  "language_info": {
   "codemirror_mode": {
    "name": "ipython",
    "version": 3
   },
   "file_extension": ".py",
   "mimetype": "text/x-python",
   "name": "python",
   "nbconvert_exporter": "python",
   "pygments_lexer": "ipython3",
   "version": "3.5.2"
  }
 },
 "nbformat": 4,
 "nbformat_minor": 0
}
