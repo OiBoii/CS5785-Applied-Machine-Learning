{
 "cells": [
  {
   "cell_type": "code",
   "execution_count": 57,
   "metadata": {
    "collapsed": false
   },
   "outputs": [],
   "source": [
    "# 1-a Load Data\n",
    "import numpy as np\n",
    "from matplotlib import pylab as plt\n",
    "import matplotlib.cm as cm\n",
    "%matplotlib inline\n",
    "\n",
    "data, label = [], []\n",
    "for line in open(\"./data/amazon_cells_labelled.txt\"):\n",
    "    l = line.strip().split(\"\\t\")\n",
    "    data.append(l[0])\n",
    "    label.append(l[1])\n",
    "for line in open(\"./data/imdb_labelled.txt\"):\n",
    "    l = line.strip().split(\"\\t\")\n",
    "    data.append(l[0])\n",
    "    label.append(l[1])\n",
    "for line in open(\"./data/yelp_labelled.txt\"):\n",
    "    l = line.strip().split(\"\\t\")\n",
    "    data.append(l[0])\n",
    "    label.append(l[1])\n",
    "data = np.array(data)\n",
    "label = np.array(label)"
   ]
  },
  {
   "cell_type": "code",
   "execution_count": 58,
   "metadata": {
    "collapsed": false
   },
   "outputs": [],
   "source": [
    "# 1-b Preprocess\n",
    "from nltk.stem import PorterStemmer\n",
    "from nltk.corpus import stopwords\n",
    "import re\n",
    "# Lowercase all of the words\n",
    "data = np.char.lower(data)\n",
    "\n",
    "# Stripping Punctuation\n",
    "for i in range(len(data)):\n",
    "    data[i] = re.sub('[^\\w\\s]',' ', data[i])\n",
    "\n",
    "# Lemmatizing & Remove Stop Words\n",
    "stemmer = PorterStemmer()\n",
    "for i in range(len(data)):\n",
    "    s = []\n",
    "    for word in data[i].split():\n",
    "        try:\n",
    "            if word not in stopwords.words(\"english\"):\n",
    "                s.append(stemmer.stem(word))\n",
    "        except:\n",
    "            pass\n",
    "    data[i] = \" \".join(s)"
   ]
  },
  {
   "cell_type": "code",
   "execution_count": 59,
   "metadata": {
    "collapsed": false
   },
   "outputs": [],
   "source": [
    "# 1-c Split Training and Testing Set\n",
    "train_data, train_label = [], []\n",
    "test_data, test_label = [], []\n",
    "for f in range(0, 3):\n",
    "    start = f*1000\n",
    "    one = 0\n",
    "    zero = 0\n",
    "    for i in range(start, start+1000):\n",
    "        if label[i] == 1:\n",
    "            one += 1\n",
    "            if one <= 400:\n",
    "                train_data.append(data[i])\n",
    "                train_label.append(1)\n",
    "            else:\n",
    "                test_data.append(data[i])\n",
    "                test_label.append(1)\n",
    "        else:\n",
    "            zero += 1\n",
    "            if zero <= 400:\n",
    "                train_data.append(data[i])\n",
    "                train_label.append(0)\n",
    "            else:\n",
    "                test_data.append(data[i])\n",
    "                test_label.append(0)\n",
    "\n",
    "train_data = np.array(train_data)\n",
    "test_data = np.array(test_data)\n",
    "train_label = np.array(train_label)\n",
    "test_label = np.array(test_label)"
   ]
  },
  {
   "cell_type": "code",
   "execution_count": 60,
   "metadata": {
    "collapsed": false
   },
   "outputs": [],
   "source": [
    "# 1-d Bag of Words Model.\n",
    "# Get dictionary from training data\n",
    "word_dict = dict()\n",
    "index = 0\n",
    "for s in train_data:\n",
    "    for w in s.split():\n",
    "        if w not in word_dict:\n",
    "            word_dict[w] = index\n",
    "            index += 1\n",
    "\n",
    "# Get training and test features\n",
    "train_feat, test_feat = [], []\n",
    "word_count = len(word_dict)\n",
    "for s in train_data:\n",
    "    cur = [0] * word_count\n",
    "    for w in s.split():\n",
    "        cur[word_dict[w]] += 1\n",
    "    train_feat.append(cur)\n",
    "train_feat = np.array(train_feat, dtype=float)\n",
    "for s in test_data:\n",
    "    cur = [0] * word_count\n",
    "    for w in s.split():\n",
    "        if w in word_dict:\n",
    "            cur[word_dict[w]] += 1\n",
    "    test_feat.append(cur)\n",
    "test_feat = np.array(test_feat, dtype=float)"
   ]
  },
  {
   "cell_type": "code",
   "execution_count": 61,
   "metadata": {
    "collapsed": false
   },
   "outputs": [
    {
     "name": "stderr",
     "output_type": "stream",
     "text": [
      "//anaconda/lib/python3.5/site-packages/sklearn/feature_extraction/text.py:993: RuntimeWarning: divide by zero encountered in true_divide\n",
      "  idf = np.log(float(n_samples) / df) + 1.0\n"
     ]
    }
   ],
   "source": [
    "# 1-e Postprocessing Strategy  \n",
    "from sklearn.feature_extraction.text import TfidfTransformer\n",
    "transformer = TfidfTransformer(smooth_idf=False)\n",
    "train_post = transformer.fit_transform(train_feat).toarray()\n",
    "test_post = transformer.fit_transform(test_feat).toarray()"
   ]
  },
  {
   "cell_type": "code",
   "execution_count": 97,
   "metadata": {
    "collapsed": false,
    "scrolled": true
   },
   "outputs": [
    {
     "name": "stdout",
     "output_type": "stream",
     "text": [
      "Cluster0: 1101, zero0: 604\n",
      "K Means Accuracy: 0.5445833333333333\n"
     ]
    }
   ],
   "source": [
    "# 1-f Training Set Clustering\n",
    "from sklearn.metrics.pairwise import cosine_similarity\n",
    "\n",
    "def k_means(k, features):\n",
    "    random_indices = np.random.choice(range(len(features)), k, replace=False)\n",
    "    initials_centroids = get_feat(random_indices, features)\n",
    "    return helper(k, features, initials_centroids, None)\n",
    "\n",
    "def get_feat(indices, features):\n",
    "    feats = []\n",
    "    for i in indices:\n",
    "        feats.append(features[i])\n",
    "    return np.array(feats)\n",
    "\n",
    "def helper(k, features, centroids, prev):\n",
    "    clusters = {}\n",
    "    \n",
    "    # Assign to Centroids\n",
    "    for i in range(len(features)):\n",
    "        dists = []\n",
    "        f = features[i]\n",
    "        for c in centroids:\n",
    "            nf = np.linalg.norm(f)\n",
    "            nc = np.linalg.norm(c)\n",
    "            d = -1 * np.dot(f, c.T) / (nf * nc)\n",
    "            #dists.append(np.linalg.norm(f - c))\n",
    "            dists.append(d)\n",
    "        assignment = np.argmin(dists)\n",
    "        if assignment in clusters:\n",
    "            clusters[assignment].append(i)\n",
    "        else:\n",
    "            clusters[assignment] = [i]\n",
    "    if clusters == prev:\n",
    "        return(clusters, centroids)\n",
    "    \n",
    "    # Update Centroids\n",
    "    new_centroids = []\n",
    "    for c in clusters.keys():\n",
    "        cluster = get_feat(clusters[c], features)\n",
    "        new_centroids.append(np.mean(cluster, axis=0))    \n",
    "    return helper(k, features, new_centroids, clusters)\n",
    "\n",
    "def run_km(k, features, labels):\n",
    "    clusters, centroids = k_means(k, features)\n",
    "    count0 = len(clusters[0])\n",
    "    zero0 = 0\n",
    "    acc = 0\n",
    "    for i in clusters[0]:\n",
    "        if 0 == labels[i]:\n",
    "            zero0 += 1\n",
    "            acc += 1\n",
    "    for i in clusters[1]:\n",
    "        if 1 == labels[i]:\n",
    "            acc += 1\n",
    "    print(\"Cluster0: {}, zero0: {}\".format(count0, zero0))\n",
    "    rate = acc / len(features)\n",
    "    if rate < 0.5:\n",
    "        rate = 1 - rate\n",
    "    print(\"K Means Accuracy: {}\".format(rate))\n",
    "run_km(2, train_post, train_label)"
   ]
  },
  {
   "cell_type": "code",
   "execution_count": 63,
   "metadata": {
    "collapsed": false
   },
   "outputs": [
    {
     "name": "stdout",
     "output_type": "stream",
     "text": [
      "Logistic Regression Accuracy: 0.8266666666666667\n",
      "Normalized confusion matrix\n",
      "[[ 0.88  0.12]\n",
      " [ 0.22  0.78]]\n"
     ]
    },
    {
     "data": {
      "image/png": "[encoded data removed]",
      "text/plain": [
       "<matplotlib.figure.Figure at 0x10a217978>"
      ]
     },
     "metadata": {},
     "output_type": "display_data"
    },
    {
     "name": "stdout",
     "output_type": "stream",
     "text": [
      "great\n",
      "love\n",
      "bad\n",
      "excel\n",
      "good\n",
      "nice\n",
      "poor\n",
      "delici\n",
      "amaz\n",
      "best\n"
     ]
    }
   ],
   "source": [
    "# 1-g Sentiment Prediction\n",
    "from sklearn.linear_model import LogisticRegression\n",
    "from sklearn.metrics import confusion_matrix\n",
    "import itertools\n",
    "\n",
    "def plot_confusion_matrix(cm, classes,\n",
    "                          normalize=False,\n",
    "                          title='Confusion matrix',\n",
    "                          cmap=plt.cm.Blues):\n",
    "    \"\"\"\n",
    "    This function prints and plots the confusion matrix.\n",
    "    Normalization can be applied by setting `normalize=True`.\n",
    "    \"\"\"\n",
    "    plt.imshow(cm, interpolation='nearest', cmap=cmap)\n",
    "    plt.title(title)\n",
    "    plt.colorbar()\n",
    "    tick_marks = np.arange(len(classes))\n",
    "    plt.xticks(tick_marks, classes, rotation=45)\n",
    "    plt.yticks(tick_marks, classes)\n",
    "\n",
    "    if normalize:\n",
    "        cm = cm.astype('float') / cm.sum(axis=1)[:, np.newaxis]\n",
    "        print(\"Normalized confusion matrix\")\n",
    "    else:\n",
    "        print('Confusion matrix, without normalization')\n",
    "\n",
    "    print(cm)\n",
    "\n",
    "    thresh = cm.max() / 2.\n",
    "    for i, j in itertools.product(range(cm.shape[0]), range(cm.shape[1])):\n",
    "        plt.text(j, i, cm[i, j],\n",
    "                 horizontalalignment=\"center\",\n",
    "                 color=\"white\" if cm[i, j] > thresh else \"black\")\n",
    "\n",
    "    plt.tight_layout()\n",
    "    plt.ylabel('True label')\n",
    "    plt.xlabel('Predicted label')\n",
    "\n",
    "def run_log(train, train_label, test, test_label, dictionary):    \n",
    "    # Compute Log Regression\n",
    "    clf_L = LogisticRegression()\n",
    "    clf_L.fit(train, train_label)\n",
    "    acc_L = clf_L.score(test, test_label)\n",
    "    print(\"Logistic Regression Accuracy: {}\".format(acc_L))\n",
    "\n",
    "    # Confusion Matrix\n",
    "    y_pred = clf_L.predict(test)\n",
    "    cm = confusion_matrix(test_label, y_pred)\n",
    "    np.set_printoptions(precision=2)\n",
    "    class_names = {\"0\", \"1\"}\n",
    "    plt.figure()\n",
    "    plot_confusion_matrix(cm, classes=class_names, normalize=True, title='Normalized confusion matrix')\n",
    "    plt.show()\n",
    "    \n",
    "    # Show most significant words\n",
    "    indices = np.argsort(np.absolute(clf_L.coef_))[0]\n",
    "    significant = [indices[-1], indices[-2], indices[-3], indices[-4], indices[-5],\n",
    "              indices[-6], indices[-7], indices[-8], indices[-9], indices[-10]]     \n",
    "    for i in significant:\n",
    "        for w in dictionary.keys():\n",
    "            if dictionary[w] == i:\n",
    "                print(w)\n",
    "                \n",
    "run_log(train_post, train_label, test_post, test_label, word_dict)"
   ]
  },
  {
   "cell_type": "code",
   "execution_count": 98,
   "metadata": {
    "collapsed": false
   },
   "outputs": [
    {
     "name": "stderr",
     "output_type": "stream",
     "text": [
      "//anaconda/lib/python3.5/site-packages/sklearn/feature_extraction/text.py:993: RuntimeWarning: divide by zero encountered in true_divide\n",
      "  idf = np.log(float(n_samples) / df) + 1.0\n"
     ]
    },
    {
     "name": "stdout",
     "output_type": "stream",
     "text": [
      "Cluster0: 2399, zero0: 1200\n",
      "K Means Accuracy: 0.5004166666666666\n",
      "Logistic Regression Accuracy: 0.645\n",
      "Normalized confusion matrix\n",
      "[[ 0.9   0.1 ]\n",
      " [ 0.61  0.39]]\n"
     ]
    },
    {
     "data": {
      "image/png": "[encoded data removed]",
      "text/plain": [
       "<matplotlib.figure.Figure at 0x110ee0128>"
      ]
     },
     "metadata": {},
     "output_type": "display_data"
    },
    {
     "name": "stdout",
     "output_type": "stream",
     "text": [
      "work great\n",
      "highli recommend\n",
      "wast time\n",
      "great phone\n",
      "disappoint\n",
      "wast money\n",
      "one best\n",
      "great product\n",
      "10 10\n",
      "food good\n"
     ]
    }
   ],
   "source": [
    "# 1-h N-gram Model\n",
    "# Bag of N-grams\n",
    "def get_ngram(sentence, n):\n",
    "    res = []\n",
    "    w = sentence.split()\n",
    "    if len(w) <= n:\n",
    "        return [sentence]\n",
    "    for i in range(len(w) - n + 1):\n",
    "        res.append(\" \".join(w[i:i+n]))\n",
    "    return res\n",
    "\n",
    "# Get dictionary from training data\n",
    "def get_dict_ng(n):\n",
    "    word_dict = dict()\n",
    "    index = 0\n",
    "    for s in train_data:\n",
    "        for ng in get_ngram(s, n):\n",
    "            if ng not in word_dict:\n",
    "                word_dict[ng] = index\n",
    "                index += 1\n",
    "    return word_dict\n",
    "\n",
    "# Get training and test features\n",
    "def get_feat_ng(input_data, ng_dict, n):\n",
    "    feat_ng = []\n",
    "    ng_count = len(ng_dict)\n",
    "    for s in input_data:\n",
    "        cur = [0] * ng_count\n",
    "        for ng in get_ngram(s, n):\n",
    "            if ng in ng_dict:\n",
    "                cur[ng_dict[ng]] += 1\n",
    "        feat_ng.append(cur)\n",
    "    return np.array(feat_ng)\n",
    "\n",
    "ng_dict = get_dict_ng(2)\n",
    "train_feat_ng = get_feat_ng(train_data, ng_dict, 2)\n",
    "test_feat_ng = get_feat_ng(test_data, ng_dict, 2)\n",
    "train_post_ng = transformer.fit_transform(train_feat_ng).toarray()\n",
    "test_post_ng = transformer.fit_transform(test_feat_ng).toarray()\n",
    "\n",
    "# K Means\n",
    "run_km(2, train_post_ng, train_label)\n",
    "\n",
    "# Log Regression\n",
    "run_log(train_post_ng, train_label, test_post_ng, test_label, ng_dict)"
   ]
  },
  {
   "cell_type": "code",
   "execution_count": 99,
   "metadata": {
    "collapsed": false
   },
   "outputs": [
    {
     "name": "stdout",
     "output_type": "stream",
     "text": [
      "PCA 10\n",
      "Cluster0: 780, zero0: 318\n",
      "K Means Accuracy: 0.56\n",
      "Logistic Regression Accuracy: 0.5383333333333333\n",
      "Normalized confusion matrix\n",
      "[[ 0.43  0.57]\n",
      " [ 0.36  0.64]]\n"
     ]
    },
    {
     "data": {
      "image/png": "[encoded data removed]",
      "text/plain": [
       "<matplotlib.figure.Figure at 0x114cda940>"
      ]
     },
     "metadata": {},
     "output_type": "display_data"
    },
    {
     "name": "stdout",
     "output_type": "stream",
     "text": [
      "PCA 50\n",
      "Cluster0: 765, zero0: 321\n",
      "K Means Accuracy: 0.55125\n",
      "Logistic Regression Accuracy: 0.57\n",
      "Normalized confusion matrix\n",
      "[[ 0.45  0.55]\n",
      " [ 0.31  0.69]]\n"
     ]
    },
    {
     "data": {
      "image/png": "[encoded data removed]",
      "text/plain": [
       "<matplotlib.figure.Figure at 0x10cc41c18>"
      ]
     },
     "metadata": {},
     "output_type": "display_data"
    },
    {
     "name": "stdout",
     "output_type": "stream",
     "text": [
      "PCA 100\n",
      "Cluster0: 239, zero0: 116\n",
      "K Means Accuracy: 0.5083333333333333\n",
      "Logistic Regression Accuracy: 0.5566666666666666\n",
      "Normalized confusion matrix\n",
      "[[ 0.48  0.52]\n",
      " [ 0.37  0.63]]\n"
     ]
    },
    {
     "data": {
      "image/png": "[encoded data removed]",
      "text/plain": [
       "<matplotlib.figure.Figure at 0x10d5eaa90>"
      ]
     },
     "metadata": {},
     "output_type": "display_data"
    }
   ],
   "source": [
    "def pca(features, n):\n",
    "    features -= features.mean(axis=0)\n",
    "    R = np.cov(features, rowvar=False)\n",
    "    evals, evecs = np.linalg.eigh(R)\n",
    "    idx = np.argsort(evals)[::-1]\n",
    "    evecs, evals = evecs[:, idx], evals[idx]\n",
    "    evecs, evals = evecs[:, :n], evals[:n]\n",
    "    return np.dot(evecs.T, features.T).T\n",
    "    \n",
    "train_pca10 = pca(train_post, 10)\n",
    "test_pca10 = pca(test_post, 10)\n",
    "train_pca50 = pca(train_post, 50)\n",
    "test_pca50 = pca(test_post, 50)\n",
    "train_pca100 = pca(train_post, 100)\n",
    "test_pca100 = pca(test_post, 100)\n",
    "print(\"PCA 10\")\n",
    "run_km(2, train_pca10, train_label)\n",
    "run_log(train_pca10, train_label, test_pca10, test_label, {})\n",
    "print(\"PCA 50\")\n",
    "run_km(2, train_pca50, train_label)\n",
    "run_log(train_pca50, train_label, test_pca50, test_label, {})\n",
    "print(\"PCA 100\")\n",
    "run_km(2, test_pca50, train_label)\n",
    "run_log(train_pca100, train_label, test_pca100, test_label, {})"
   ]
  }
 ],
 "metadata": {
  "anaconda-cloud": {},
  "kernelspec": {
   "display_name": "Python [Root]",
   "language": "python",
   "name": "Python [Root]"
  },
  "language_info": {
   "codemirror_mode": {
    "name": "ipython",
    "version": 3
   },
   "file_extension": ".py",
   "mimetype": "text/x-python",
   "name": "python",
   "nbconvert_exporter": "python",
   "pygments_lexer": "ipython3",
   "version": "3.5.2"
  }
 },
 "nbformat": 4,
 "nbformat_minor": 0
}
